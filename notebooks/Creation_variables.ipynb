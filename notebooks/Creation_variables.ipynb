{
 "cells": [
  {
   "cell_type": "code",
   "execution_count": null,
   "metadata": {},
   "outputs": [],
   "source": [
    "import numpy as np\n",
    "import pandas as pd"
   ]
  },
  {
   "cell_type": "code",
   "execution_count": null,
   "metadata": {},
   "outputs": [],
   "source": [
    "df = pd.read_csv(\"base_projet_teleco.csv\", sep = \";\")\n",
    "df.drop(\"Unnamed: 0\", axis = 1, inplace = True)"
   ]
  },
  {
   "cell_type": "code",
   "execution_count": null,
   "metadata": {},
   "outputs": [],
   "source": [
    "df.info()"
   ]
  },
  {
   "cell_type": "code",
   "execution_count": null,
   "metadata": {},
   "outputs": [],
   "source": [
    "# les données sont figés à fin M1 (août), M2 = juillet etc jusqu'à M6 = mars\n",
    "\n",
    "# création de 4 variables (comme on cherche les churners dans les 2 mois)\n",
    "\n",
    "df[\"FLAG_RECHARGE_M1\"] = df[\"RECENCY_OF_LAST_RECHARGE\"].apply(lambda x : 1 if 0 <= x <= 31 else 0)\n",
    "\n",
    "df[\"FLAG_RECHARGE_M2\"] = df[\"RECENCY_OF_LAST_RECHARGE\"].apply(lambda x : 1 if 32 <= x <= 62 else 0)\n",
    "\n",
    "df[\"FLAG_RECHARGE_M3\"] = df[\"RECENCY_OF_LAST_RECHARGE\"].apply(lambda x : 1 if 63 <= x <= 92 else 0)\n",
    "\n",
    "df[\"FLAG_RECHARGE_PLUS_M3\"] = df[\"RECENCY_OF_LAST_RECHARGE\"].apply(lambda x : 1 if x >= 93 else 0) #plus loin que M3\n"
   ]
  },
  {
   "cell_type": "code",
   "execution_count": null,
   "metadata": {},
   "outputs": [],
   "source": [
    "# montant de recharge par mois \n",
    "\n",
    "# on a le flag du mois de la dernière recharge, le nombre de recharge sur 6 mois, le montant de la dernière recharge\n",
    "# le délais inter-recharge et l'ancienneté du contrat\n",
    "\n",
    "df.iloc[0].loc[\"NO_OF_RECHARGES_6M\"] #exemple ici on a 7 recharge sur les 6 derniers mois\n",
    "df.iloc[0].loc[\"AVERAGE_RECHARGE_TIME_6M\"] #on a 27j entre les recharges\n",
    "df.iloc[0].loc[\"FLAG_RECHARGE_M1\"] #dernière recharge en M1\n",
    "df.iloc[0].loc[\"LAST_RECHARGE_VALUE\"] # dernière recharge vaut 50\n",
    "df.iloc[0].loc[\"TOTAL_RECHARGE_6M\"] #valeur de 400 au total donc sur M1 on a 50 donc il nous reste 350\n",
    "df.iloc[0].loc[\"AVERAGE_CHARGE_6M\"] #moyenne de recharge sur les 6 mois : 66.67\n",
    "df.iloc[0].loc[\"CONTRACT_TENURE_DAYS\"]  #contrat date de 1735 jours donc valeur à l'activation pas dans le 6 mois\n",
    "\n",
    "# donc sur les 5 autres mois (M2 et +) on a 6 recharge faite pour un montant de 350 et 27 jours entre chaque\n",
    "# quelles sont les combinaisons possibles ? \n",
    "  # -> impossible de faire une recharge de 200 et de 20\n",
    "  # -> reste 50 et 100 qui peuvent être répartis de plusieurs façon possible (peut-être voir avec la balance)\n",
    "\n",
    "\n",
    "# me paraît très compliquer à mettre en place\n"
   ]
  },
  {
   "cell_type": "code",
   "execution_count": null,
   "metadata": {},
   "outputs": [],
   "source": [
    "# sinon approche via les balances : si balance M1 > M2 ou balance M2 > M3 ou balance M1 > M3 alors il a eu plusieurs recharges sur les 3 mois\n",
    "# marche que si balance = reste des recharges \n",
    "\n",
    "for index, row in df.iterrows():\n",
    "    if row[\"BALANCE_M1\"] > row[\"BALANCE_M2\"] :\n",
    "        df.at[index, \"AVERAGE_MULTIPLE_RECHARGE_M1_M2_M3\"] = 1\n",
    "    \n",
    "    elif row[\"BALANCE_M2\"] > row[\"BALANCE_M3\"] :\n",
    "        df.at[index, \"AVERAGE_MULTIPLE_RECHARGE_M1_M2_M3\"] = 1\n",
    "\n",
    "    elif row[\"BALANCE_M1\"] > row[\"BALANCE_M3\"] :\n",
    "        df.at[index, \"AVERAGE_MULTIPLE_RECHARGE_M1_M2_M3\"] = 1\n",
    "\n",
    "    else :\n",
    "        df.at[index, \"AVERAGE_MULTIPLE_RECHARGE_M1_M2_M3\"] = 0"
   ]
  },
  {
   "cell_type": "code",
   "execution_count": null,
   "metadata": {},
   "outputs": [],
   "source": [
    "df.iloc[0]"
   ]
  },
  {
   "cell_type": "code",
   "execution_count": null,
   "metadata": {},
   "outputs": [],
   "source": [
    "# si quelque chose entre 1 sinon 0\n",
    "\n",
    "for index, row in df.iterrows() :\n",
    "    if row[\"INC_DURATION_MINS_M1\"] + row[\"INC_PROP_SMS_CALLS_M1\"] == 0 :\n",
    "        df.at[index, \"FLAG_IN_M1\"] = 0\n",
    "\n",
    "    if row[\"INC_DURATION_MINS_M2\"] + row[\"INC_PROP_SMS_CALLS_M2\"] == 0 :\n",
    "        df.at[index, \"FLAG_IN_M2\"] = 0\n",
    "\n",
    "    \n",
    "    if row[\"INC_DURATION_MINS_M3\"] + row[\"INC_PROP_SMS_CALLS_M3\"] == 0 :\n",
    "        df.at[index, \"FLAG_IN_M3\"] = 0\n",
    "\n",
    "\n",
    "    else :\n",
    "        df.at[index, \"FLAG_IN_M1\"] = 1\n",
    "        df.at[index, \"FLAG_IN_M2\"] = 1\n",
    "        df.at[index, \"FLAG_IN_M3\"] = 1"
   ]
  },
  {
   "cell_type": "code",
   "execution_count": null,
   "metadata": {},
   "outputs": [],
   "source": [
    "# si quelque chose sort 1 sinon 0\n",
    "\n",
    "for index, row in df.iterrows() :\n",
    "    if row[\"OUT_DURATION_MINS_M1\"] + row[\"OUT_SMS_NO_M1\"] == 0 :\n",
    "        df.at[index, \"FLAG_OUT_M1\"] = 0\n",
    "\n",
    "    if row[\"OUT_DURATION_MINS_M2\"] + row[\"OUT_SMS_NO_M2\"] == 0 :\n",
    "        df.at[index, \"FLAG_OUT_M2\"] = 0\n",
    "\n",
    "    \n",
    "    if row[\"OUT_DURATION_MINS_M3\"] + row[\"OUT_SMS_NO_M3\"] == 0 :\n",
    "        df.at[index, \"FLAG_OUT_M3\"] = 0\n",
    "\n",
    "\n",
    "    else :\n",
    "        df.at[index, \"FLAG_OUT_M1\"] = 1\n",
    "        df.at[index, \"FLAG_OUT_M2\"] = 1\n",
    "        df.at[index, \"FLAG_OUT_M3\"] = 1"
   ]
  },
  {
   "cell_type": "code",
   "execution_count": null,
   "metadata": {},
   "outputs": [],
   "source": [
    "for index, row in df.iterrows() :\n",
    "    if row[\"CONTRACT_TENURE_DAYS\"] > 365 :\n",
    "        row[\"OLD_CONTRACT\"] = 1\n",
    "    \n",
    "    else :\n",
    "        row[\"OLD_CONTRACT\"] = 0"
   ]
  },
  {
   "cell_type": "code",
   "execution_count": null,
   "metadata": {},
   "outputs": [],
   "source": [
    "df.CONTRACT_TENURE_DAYS.sort_values(ascending=False)"
   ]
  },
  {
   "cell_type": "code",
   "execution_count": null,
   "metadata": {},
   "outputs": [],
   "source": [
    "df"
   ]
  },
  {
   "cell_type": "code",
   "execution_count": null,
   "metadata": {},
   "outputs": [],
   "source": []
  }
 ],
 "metadata": {
  "kernelspec": {
   "display_name": "Python 3",
   "language": "python",
   "name": "python3"
  },
  "language_info": {
   "codemirror_mode": {
    "name": "ipython",
    "version": 3
   },
   "file_extension": ".py",
   "mimetype": "text/x-python",
   "name": "python",
   "nbconvert_exporter": "python",
   "pygments_lexer": "ipython3",
   "version": "3.9.13"
  },
  "orig_nbformat": 4
 },
 "nbformat": 4,
 "nbformat_minor": 2
}
